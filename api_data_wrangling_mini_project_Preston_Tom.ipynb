{
 "cells": [
  {
   "cell_type": "markdown",
   "metadata": {},
   "source": [
    "This exercise will require you to pull some data from the Qunadl API. Qaundl is currently the most widely used aggregator of financial market data."
   ]
  },
  {
   "cell_type": "markdown",
   "metadata": {},
   "source": [
    "\n",
    "For this mini project, we will focus on equities data from the Frankfurt Stock Exhange (FSE), which is available for free. We'll try and analyze the stock prices of a company called Carl Zeiss Meditec, which manufactures tools for eye examinations, as well as medical lasers for laser eye surgery: https://www.zeiss.com/meditec/int/home.html. The company is listed under the stock ticker AFX_X."
   ]
  },
  {
   "cell_type": "code",
   "execution_count": 1,
   "metadata": {},
   "outputs": [],
   "source": [
    "# First, import the relevant modules\n",
    "import json\n",
    "import requests"
   ]
  },
  {
   "cell_type": "code",
   "execution_count": 2,
   "metadata": {},
   "outputs": [
    {
     "name": "stdout",
     "output_type": "stream",
     "text": [
      "{'dataset': {'id': 10095370, 'dataset_code': 'AFX_X', 'database_code': 'FSE', 'name': 'Carl Zeiss Meditec (AFX_X)', 'description': 'Stock Prices for Carl Zeiss Meditec (AFX) from the Frankfurt Stock Exchange.<br><br>Trading System: Xetra<br><br>ISIN: DE0005313704', 'refreshed_at': '2019-02-15T22:30:19.722Z', 'newest_available_date': '2019-02-15', 'oldest_available_date': '2000-06-07', 'column_names': ['Date', 'Open', 'High', 'Low', 'Close', 'Change', 'Traded Volume', 'Turnover', 'Last Price of the Day', 'Daily Traded Units', 'Daily Turnover'], 'frequency': 'daily', 'type': 'Time Series', 'premium': False, 'limit': None, 'transform': None, 'column_index': None, 'start_date': '2017-01-01', 'end_date': '2017-01-04', 'data': [['2017-01-04', 35.48, 35.51, 34.75, 35.19, None, 54408.0, 1906810.0, None, None, None], ['2017-01-03', 35.9, 35.93, 35.34, 35.48, None, 70618.0, 2515473.0, None, None, None], ['2017-01-02', 34.99, 35.94, 34.99, 35.8, None, 44700.0, 1590561.0, None, None, None]], 'collapse': None, 'order': None, 'database_id': 6129}}\n"
     ]
    }
   ],
   "source": [
    "# Now, call the Quandl API and pull out a small sample of the data (only one day) to get a glimpse\n",
    "# into the JSON structure that will be returned\n",
    "afx_test = requests.get(\"https://www.quandl.com/api/v3/datasets/FSE/AFX_X.json?start_date=2017-01-01&end_date=2017-01-04&api_key=jLAFzrWmFXP9VwMJCVin\")\n",
    "afx_test_json = afx_test.json()  # read json directly\n",
    "print(afx_test_json)"
   ]
  },
  {
   "cell_type": "code",
   "execution_count": 3,
   "metadata": {},
   "outputs": [
    {
     "data": {
      "text/plain": [
       "{'id': 10095370,\n",
       " 'dataset_code': 'AFX_X',\n",
       " 'database_code': 'FSE',\n",
       " 'name': 'Carl Zeiss Meditec (AFX_X)',\n",
       " 'description': 'Stock Prices for Carl Zeiss Meditec (AFX) from the Frankfurt Stock Exchange.<br><br>Trading System: Xetra<br><br>ISIN: DE0005313704',\n",
       " 'refreshed_at': '2019-02-15T22:30:19.722Z',\n",
       " 'newest_available_date': '2019-02-15',\n",
       " 'oldest_available_date': '2000-06-07',\n",
       " 'column_names': ['Date',\n",
       "  'Open',\n",
       "  'High',\n",
       "  'Low',\n",
       "  'Close',\n",
       "  'Change',\n",
       "  'Traded Volume',\n",
       "  'Turnover',\n",
       "  'Last Price of the Day',\n",
       "  'Daily Traded Units',\n",
       "  'Daily Turnover'],\n",
       " 'frequency': 'daily',\n",
       " 'type': 'Time Series',\n",
       " 'premium': False,\n",
       " 'limit': None,\n",
       " 'transform': None,\n",
       " 'column_index': None,\n",
       " 'start_date': '2017-01-01',\n",
       " 'end_date': '2017-01-04',\n",
       " 'data': [['2017-01-04',\n",
       "   35.48,\n",
       "   35.51,\n",
       "   34.75,\n",
       "   35.19,\n",
       "   None,\n",
       "   54408.0,\n",
       "   1906810.0,\n",
       "   None,\n",
       "   None,\n",
       "   None],\n",
       "  ['2017-01-03',\n",
       "   35.9,\n",
       "   35.93,\n",
       "   35.34,\n",
       "   35.48,\n",
       "   None,\n",
       "   70618.0,\n",
       "   2515473.0,\n",
       "   None,\n",
       "   None,\n",
       "   None],\n",
       "  ['2017-01-02',\n",
       "   34.99,\n",
       "   35.94,\n",
       "   34.99,\n",
       "   35.8,\n",
       "   None,\n",
       "   44700.0,\n",
       "   1590561.0,\n",
       "   None,\n",
       "   None,\n",
       "   None]],\n",
       " 'collapse': None,\n",
       " 'order': None,\n",
       " 'database_id': 6129}"
      ]
     },
     "execution_count": 3,
     "metadata": {},
     "output_type": "execute_result"
    }
   ],
   "source": [
    "# Inspect the JSON structure of the object you created, and take note of how nested it is,\n",
    "# as well as the overall structure\n",
    "afx_test_json['dataset']  # highlest level of JSON Dict data"
   ]
  },
  {
   "cell_type": "code",
   "execution_count": 4,
   "metadata": {},
   "outputs": [
    {
     "data": {
      "text/plain": [
       "[['2017-01-04',\n",
       "  35.48,\n",
       "  35.51,\n",
       "  34.75,\n",
       "  35.19,\n",
       "  None,\n",
       "  54408.0,\n",
       "  1906810.0,\n",
       "  None,\n",
       "  None,\n",
       "  None],\n",
       " ['2017-01-03',\n",
       "  35.9,\n",
       "  35.93,\n",
       "  35.34,\n",
       "  35.48,\n",
       "  None,\n",
       "  70618.0,\n",
       "  2515473.0,\n",
       "  None,\n",
       "  None,\n",
       "  None],\n",
       " ['2017-01-02',\n",
       "  34.99,\n",
       "  35.94,\n",
       "  34.99,\n",
       "  35.8,\n",
       "  None,\n",
       "  44700.0,\n",
       "  1590561.0,\n",
       "  None,\n",
       "  None,\n",
       "  None]]"
      ]
     },
     "execution_count": 4,
     "metadata": {},
     "output_type": "execute_result"
    }
   ],
   "source": [
    "# Reviewing the second level of the JSON structure\n",
    "# as well as the overall structure\n",
    "afx_test_json['dataset']['data']  # data structure stored in second level of JSON Dict"
   ]
  },
  {
   "cell_type": "code",
   "execution_count": 5,
   "metadata": {},
   "outputs": [
    {
     "data": {
      "text/plain": [
       "['2017-01-04',\n",
       " 35.48,\n",
       " 35.51,\n",
       " 34.75,\n",
       " 35.19,\n",
       " None,\n",
       " 54408.0,\n",
       " 1906810.0,\n",
       " None,\n",
       " None,\n",
       " None]"
      ]
     },
     "execution_count": 5,
     "metadata": {},
     "output_type": "execute_result"
    }
   ],
   "source": [
    "# Daily AFX price quote information stored in third level of JSON Dict\n",
    "# \n",
    "afx_test_json['dataset']['data'][0]  # each day stored in a list\n",
    "# 11 data elements\n",
    "# [0] - date, [1] - open, [2] - high,[3] - low,[4] - close,[5] - change,[6] - traded volume,\n",
    "# [7] turnover ,[8] 'Last Price of the Day',[9] 'Daily Traded Units', [10]'Daily Turnover'\n",
    "#"
   ]
  },
  {
   "cell_type": "code",
   "execution_count": 6,
   "metadata": {},
   "outputs": [
    {
     "name": "stdout",
     "output_type": "stream",
     "text": [
      "Number of daily price data elements: 11\n",
      "2017-01-04\n",
      "35.48\n",
      "35.51\n",
      "34.75\n",
      "35.19\n",
      "None\n",
      "54408.0\n",
      "1906810.0\n",
      "None\n",
      "None\n",
      "None\n"
     ]
    }
   ],
   "source": [
    "# Inspect the JSON structure of the object you created, and take note of how nested it is,\n",
    "# as well as the overall structure\n",
    "data_len_test = len(afx_test_json['dataset']['data'][0])\n",
    "print(f'Number of daily price data elements: {data_len_test}')  # each day stored in a list\n",
    "for i in range(data_len_test):\n",
    "    print(afx_test_json['dataset']['data'][0][i])          # accessing each daily data element"
   ]
  },
  {
   "cell_type": "markdown",
   "metadata": {},
   "source": [
    "### 1. Collect data from the Franfurt Stock Exchange, for the ticker AFX_X, for the whole year 2017 (keep in mind that the date format is YYYY-MM-DD).\n",
    "### 2. Convert the returned JSON object into a Python dictionary."
   ]
  },
  {
   "cell_type": "code",
   "execution_count": 7,
   "metadata": {},
   "outputs": [
    {
     "name": "stdout",
     "output_type": "stream",
     "text": [
      "Number of 2017 daily price data elements: 255\n"
     ]
    }
   ],
   "source": [
    "# Collect AFX_X data for 2017 \n",
    "# Convert to a JSON structure\n",
    "afx_2017 = requests.get(\"https://www.quandl.com/api/v3/datasets/FSE/AFX_X.json?start_date=2017-01-01&end_date=2017-12-31&api_key=jLAFzrWmFXP9VwMJCVin\")\n",
    "afx_2017_json = afx_2017.json()  # read json directly\n",
    "data_len = len(afx_2017_json['dataset']['data'])\n",
    "print(f'Number of 2017 daily price data elements: {data_len}')  # each day stored in a list"
   ]
  },
  {
   "cell_type": "code",
   "execution_count": 8,
   "metadata": {},
   "outputs": [],
   "source": [
    "# \n",
    "# As pandas DataFrames are not allowed for this exercise, empty lists are required for each data element\n",
    "#\n",
    "afx_date = []            # afx_2017_json['dataset']['data'][i][0]\n",
    "afx_open = []            # afx_2017_json['dataset']['data'][i][1]\n",
    "afx_high = []            # afx_2017_json['dataset']['data'][i][2]\n",
    "afx_low = []             # afx_2017_json['dataset']['data'][i][3]\n",
    "afx_close = []           # afx_2017_json['dataset']['data'][i][4]\n",
    "afx_volume = []          # afx_2017_json['dataset']['data'][i][6]\n",
    "afx_daily_range = []     # calculated daily high - low\n",
    "afx_net_change = [0]     # net change calculated starting with second data element"
   ]
  },
  {
   "cell_type": "code",
   "execution_count": 9,
   "metadata": {},
   "outputs": [],
   "source": [
    "# \n",
    "# Iterate through 2017 daily data and build lists\n",
    "#\n",
    "#for j in range(len(afx_2017_json['dataset']['data'])):  \n",
    "for j in range(data_len):  \n",
    "    date = afx_2017_json['dataset']['data'][j][0]\n",
    "    open = afx_2017_json['dataset']['data'][j][1]\n",
    "    high = afx_2017_json['dataset']['data'][j][2]\n",
    "    low = afx_2017_json['dataset']['data'][j][3]\n",
    "    close = afx_2017_json['dataset']['data'][j][4]\n",
    "    \n",
    "    volume = afx_2017_json['dataset']['data'][j][6]\n",
    "    \n",
    "    # Verify data exists for each data item\n",
    "    afx_date.append(date)\n",
    "    if isinstance(open,float):\n",
    "        afx_open.append(open)\n",
    "    if isinstance(high,float):\n",
    "        afx_high.append(high)\n",
    "    if isinstance(low,float):\n",
    "        afx_low.append(low)\n",
    "    if isinstance(close,float):\n",
    "        afx_close.append(close)\n",
    "    if isinstance(volume,float):\n",
    "        afx_volume.append(volume)\n",
    "    if isinstance(high,float) and isinstance(low,float):\n",
    "        day_range = high - low\n",
    "        afx_daily_range.append(day_range) \n",
    "\n",
    "    # price date is in newest to oldest order \n",
    "    # afx_date[0] = 2017-12-30, afx_date[1] = 2017-12-29 so subtract current close from prev value close\n",
    "    if j != 0:\n",
    "        net_change = afx_close[j-1] - afx_close[j]\n",
    "        afx_net_change.append(net_change)"
   ]
  },
  {
   "cell_type": "markdown",
   "metadata": {},
   "source": [
    "### 3. Calculate what the highest and lowest opening prices were for the stock in 2017."
   ]
  },
  {
   "cell_type": "code",
   "execution_count": 10,
   "metadata": {},
   "outputs": [
    {
     "name": "stdout",
     "output_type": "stream",
     "text": [
      " AFX_X 2017 lowest opening price was $ 34.00 on 2017-01-27\n",
      " AFX_X 2017 highest opening price was $ 53.11 on 2017-12-14\n"
     ]
    }
   ],
   "source": [
    "print(f' AFX_X 2017 lowest opening price was $ {min(afx_open):.2f} on {afx_date[afx_open.index(min(afx_open))]}')\n",
    "print(f' AFX_X 2017 highest opening price was $ {max(afx_open):.2f} on {afx_date[afx_open.index(max(afx_open))]}')"
   ]
  },
  {
   "cell_type": "markdown",
   "metadata": {},
   "source": [
    "### 4. What was the largest change in any one day (based on High and Low price)?"
   ]
  },
  {
   "cell_type": "code",
   "execution_count": 11,
   "metadata": {},
   "outputs": [
    {
     "name": "stdout",
     "output_type": "stream",
     "text": [
      "AFX_X 2017 largest daily range of $ 2.81 occured on 2017-05-11\n"
     ]
    }
   ],
   "source": [
    "print(f'AFX_X 2017 largest daily range of $ {max(afx_daily_range):.2f} occured on {afx_date[afx_daily_range.index(max(afx_daily_range))]}')"
   ]
  },
  {
   "cell_type": "markdown",
   "metadata": {},
   "source": [
    "### 5. What was the largest change between any two days (based on Closing Price)?"
   ]
  },
  {
   "cell_type": "code",
   "execution_count": 12,
   "metadata": {},
   "outputs": [
    {
     "name": "stdout",
     "output_type": "stream",
     "text": [
      " AFX_X 2017 largest daily up close $ 1.72 on 2017-05-10\n",
      " AFX_X 2017 largest daily down close $ -2.56 on 2017-08-08\n"
     ]
    }
   ],
   "source": [
    "print(f' AFX_X 2017 largest daily up close $ {max(afx_net_change):.2f} on {afx_date[afx_net_change.index(max(afx_net_change))]}')\n",
    "print(f' AFX_X 2017 largest daily down close $ {min(afx_net_change):.2f} on {afx_date[afx_net_change.index(min(afx_net_change))]}')\n"
   ]
  },
  {
   "cell_type": "markdown",
   "metadata": {},
   "source": [
    "### 6. What was the average daily trading volume during this year?"
   ]
  },
  {
   "cell_type": "code",
   "execution_count": 13,
   "metadata": {},
   "outputs": [
    {
     "name": "stdout",
     "output_type": "stream",
     "text": [
      " AFX_X 2017 average daily volume (in shares): 89,124\n"
     ]
    }
   ],
   "source": [
    "afx_average_volume = sum(afx_volume) / len(afx_volume)\n",
    "print(f' AFX_X 2017 average daily volume (in shares): {afx_average_volume:,.0f}')"
   ]
  },
  {
   "cell_type": "markdown",
   "metadata": {},
   "source": [
    "### 7. (Optional) What was the median trading volume during this year. (Note: you may need to implement your own function for calculating the median.)"
   ]
  },
  {
   "cell_type": "code",
   "execution_count": 14,
   "metadata": {},
   "outputs": [
    {
     "name": "stdout",
     "output_type": "stream",
     "text": [
      " AFX_X 2017 median daily volume (in shares): 76,286\n"
     ]
    }
   ],
   "source": [
    "afx_median_volume = sorted(afx_volume)[int(len(afx_volume)/2)]\n",
    "print(f' AFX_X 2017 median daily volume (in shares): {afx_median_volume:,.0f}')"
   ]
  }
 ],
 "metadata": {
  "kernelspec": {
   "display_name": "Python 3",
   "language": "python",
   "name": "python3"
  },
  "language_info": {
   "codemirror_mode": {
    "name": "ipython",
    "version": 3
   },
   "file_extension": ".py",
   "mimetype": "text/x-python",
   "name": "python",
   "nbconvert_exporter": "python",
   "pygments_lexer": "ipython3",
   "version": "3.7.1"
  }
 },
 "nbformat": 4,
 "nbformat_minor": 2
}
